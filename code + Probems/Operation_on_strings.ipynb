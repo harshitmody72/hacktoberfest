{
 "cells": [
  {
   "cell_type": "code",
   "execution_count": 1,
   "metadata": {},
   "outputs": [
    {
     "name": "stdout",
     "output_type": "stream",
     "text": [
      "****************************************word with the longest length******************************************\n",
      "Enter the stringmy name is varad\n",
      "varad\n",
      "*******************frequency of occurrence of particular character in the string********************************\n",
      "frequency of occurrence of each character in given string is:\n",
      " {'m': 2, 'y': 1, ' ': 3, 'n': 1, 'a': 3, 'e': 1, 'i': 1, 's': 1, 'v': 1, 'r': 1, 'd': 1}\n",
      "************************************palindrome ******************************************\n",
      "It's not a palindrome\n",
      "********************************occurrences of each word in a given string**********************************\n",
      "{'my': 1, 'name': 1, 'is': 1, 'varad': 1}\n",
      "*************************************index of first appearance of the substring***********************\n",
      "Enter the substring: is\n",
      "8\n"
     ]
    }
   ],
   "source": [
    "print(\"****************************************word with the longest length******************************************\")\n",
    "str1 = input(\"Enter the string\")\n",
    "def find_the_longest_word(x):\n",
    "  new_arr = x.split(' ')                                       \n",
    "  return (max(new_arr, key=len))                               \n",
    "print(find_the_longest_word(str1))\n",
    "\n",
    "print(\"*******************frequency of occurrence of particular character in the string********************************\")\n",
    "freq_count = {} \n",
    "  \n",
    "for i in str1: \n",
    "    if i in freq_count: \n",
    "        freq_count[i] += 1\n",
    "    else: \n",
    "        freq_count[i] = 1\n",
    "  \n",
    "print(\"frequency of occurrence of each character in given string is:\\n \"+ str(freq_count))\n",
    "\n",
    "print(\"************************************palindrome ******************************************\")\n",
    "str2 = str1[::-1]\n",
    "if str1==str2:\n",
    "    print(\"It's a palindrome\")\n",
    "else:\n",
    "    print(\"It's not a palindrome\")\n",
    "    \n",
    "\n",
    "print(\"********************************occurrences of each word in a given string**********************************\")\n",
    "counts = dict()\n",
    "words = str1.split()\n",
    "for word in words:\n",
    "    if word in counts:\n",
    "        counts[word] += 1\n",
    "    else:\n",
    "        counts[word] = 1\n",
    "print(counts)\n",
    "\n",
    "\n",
    "print(\"*************************************index of first appearance of the substring***********************\")\n",
    "substring = input(\"Enter the substring: \")\n",
    "\n",
    "index = str1.find(substring)\n",
    "print(index)"
   ]
  }
 ],
 "metadata": {
  "kernelspec": {
   "display_name": "Python 3",
   "language": "python",
   "name": "python3"
  },
  "language_info": {
   "codemirror_mode": {
    "name": "ipython",
    "version": 3
   },
   "file_extension": ".py",
   "mimetype": "text/x-python",
   "name": "python",
   "nbconvert_exporter": "python",
   "pygments_lexer": "ipython3",
   "version": "3.7.6"
  }
 },
 "nbformat": 4,
 "nbformat_minor": 4
}
